{
  "cells": [
    {
      "cell_type": "markdown",
      "source": [
        "# Summer Olympics Dataset\n"
      ],
      "metadata": {
        "id": "qRI-0r8QZqFS"
      }
    },
    {
      "cell_type": "markdown",
      "source": [
        "This assignment explores the basic use of __Pandas__ and will cover the basic commands of __Exploratory Data Analysis(EDA)__ which includes __cleaning__, __munging__, __combining__, __reshaping__, __slicing__, __dicing__, and __transforming data__ for analysis purpose.\n",
        "\n",
        "* __Exploratory Data Analysis__ <br/>\n",
        "Understand the data by EDA and derive simple models with Pandas as baseline.\n",
        "EDA ia a critical and first step in analyzing the data and we do this for below reasons :\n",
        "    - Finding patterns in Data\n",
        "    - Determining relationships in Data\n",
        "    - Checking of assumptions\n",
        "    - Preliminary selection of appropriate models\n",
        "    - Detection of mistakes "
      ],
      "metadata": {
        "id": "99NbPutMZqFY"
      }
    },
    {
      "cell_type": "markdown",
      "source": [
        "### 2. Data Loading and Description"
      ],
      "metadata": {
        "id": "Fk4QFpEIZqFa"
      }
    },
    {
      "cell_type": "markdown",
      "source": [
        "- The dataset consists of the information about Summer Olympic Games. Various variables present in the dataset includes data of atheletes, sports, events, participatin countries etc. \n",
        "- The dataset comprises of __31165 observations of 9 columns__. Below is a table showing names of all the columns and their description."
      ],
      "metadata": {
        "id": "e33mf-KVZqFb"
      }
    },
    {
      "cell_type": "markdown",
      "source": [
        "| Column Name   | Description                                               |\n",
        "| ------------- |:-------------                                            :| \n",
        "| Year          | Olympic Season Year                                       | \n",
        "| City          | City where games held                                     |  \n",
        "| Sport         | Sport category                                            | \n",
        "| Discipline    | Name of Sport                                             |   \n",
        "| Athlete       | Name of Athlete                                           |\n",
        "| Country       | Athlete's Country                                         |\n",
        "| Gender        | Sex of Athlete                                            |\n",
        "| Event         | Name of Event                                             |\n",
        "| Medal         | Medals                                                    |"
      ],
      "metadata": {
        "id": "X3dcDkIGZqFc"
      }
    },
    {
      "cell_type": "markdown",
      "source": [
        "# 3. Loading Packages & Dataset"
      ],
      "metadata": {
        "id": "dh0v3eU6ZqFe"
      }
    },
    {
      "cell_type": "code",
      "execution_count": 9,
      "source": [
        "# Importing Libraries \n",
        "import numpy as np                                          # Implemennts milti-dimensional array and matrices\n",
        "import pandas as pd                                         # For data manipulation and analysis\n",
        "#import pandas_profiling\n",
        "import matplotlib.pyplot as plt                             # Plotting library for Python programming language and it's numerical mathematics extension NumPy\n",
        "import seaborn as sns                                       # Provides a high level interface for drawing attractive and informative statistical graphics\n",
        "%matplotlib inline\n",
        "sns.set()"
      ],
      "outputs": [],
      "metadata": {
        "id": "62IH1x4PZqFf"
      }
    },
    {
      "cell_type": "code",
      "execution_count": 10,
      "source": [
        "olympic = pd.read_csv(\"https://raw.githubusercontent.com/insaid2018/Term-1/master/Data/Projects/summer%20olympics.csv\")"
      ],
      "outputs": [],
      "metadata": {
        "id": "phlp4KycZqFj"
      }
    },
    {
      "cell_type": "markdown",
      "source": [
        "# 4. Data Profiling"
      ],
      "metadata": {
        "id": "ye-iGn4hZqFk"
      }
    },
    {
      "cell_type": "code",
      "execution_count": 11,
      "source": [
        "olympic.shape"
      ],
      "outputs": [
        {
          "output_type": "execute_result",
          "data": {
            "text/plain": [
              "(31165, 9)"
            ]
          },
          "metadata": {},
          "execution_count": 11
        }
      ],
      "metadata": {
        "colab": {
          "base_uri": "https://localhost:8080/"
        },
        "id": "VeRfY_C9ZqFl",
        "outputId": "bc594635-48a3-46ac-dc5e-20c256b0ca18"
      }
    },
    {
      "cell_type": "code",
      "execution_count": 12,
      "source": [
        "olympic.head()"
      ],
      "outputs": [
        {
          "output_type": "execute_result",
          "data": {
            "text/html": [
              "<div>\n",
              "<style scoped>\n",
              "    .dataframe tbody tr th:only-of-type {\n",
              "        vertical-align: middle;\n",
              "    }\n",
              "\n",
              "    .dataframe tbody tr th {\n",
              "        vertical-align: top;\n",
              "    }\n",
              "\n",
              "    .dataframe thead th {\n",
              "        text-align: right;\n",
              "    }\n",
              "</style>\n",
              "<table border=\"1\" class=\"dataframe\">\n",
              "  <thead>\n",
              "    <tr style=\"text-align: right;\">\n",
              "      <th></th>\n",
              "      <th>Year</th>\n",
              "      <th>City</th>\n",
              "      <th>Sport</th>\n",
              "      <th>Discipline</th>\n",
              "      <th>Athlete</th>\n",
              "      <th>Country</th>\n",
              "      <th>Gender</th>\n",
              "      <th>Event</th>\n",
              "      <th>Medal</th>\n",
              "    </tr>\n",
              "  </thead>\n",
              "  <tbody>\n",
              "    <tr>\n",
              "      <th>0</th>\n",
              "      <td>1896</td>\n",
              "      <td>Athens</td>\n",
              "      <td>Aquatics</td>\n",
              "      <td>Swimming</td>\n",
              "      <td>HAJOS, Alfred</td>\n",
              "      <td>HUN</td>\n",
              "      <td>Men</td>\n",
              "      <td>100M Freestyle</td>\n",
              "      <td>Gold</td>\n",
              "    </tr>\n",
              "    <tr>\n",
              "      <th>1</th>\n",
              "      <td>1896</td>\n",
              "      <td>Athens</td>\n",
              "      <td>Aquatics</td>\n",
              "      <td>Swimming</td>\n",
              "      <td>HERSCHMANN, Otto</td>\n",
              "      <td>AUT</td>\n",
              "      <td>Men</td>\n",
              "      <td>100M Freestyle</td>\n",
              "      <td>Silver</td>\n",
              "    </tr>\n",
              "    <tr>\n",
              "      <th>2</th>\n",
              "      <td>1896</td>\n",
              "      <td>Athens</td>\n",
              "      <td>Aquatics</td>\n",
              "      <td>Swimming</td>\n",
              "      <td>DRIVAS, Dimitrios</td>\n",
              "      <td>GRE</td>\n",
              "      <td>Men</td>\n",
              "      <td>100M Freestyle For Sailors</td>\n",
              "      <td>Bronze</td>\n",
              "    </tr>\n",
              "    <tr>\n",
              "      <th>3</th>\n",
              "      <td>1896</td>\n",
              "      <td>Athens</td>\n",
              "      <td>Aquatics</td>\n",
              "      <td>Swimming</td>\n",
              "      <td>MALOKINIS, Ioannis</td>\n",
              "      <td>GRE</td>\n",
              "      <td>Men</td>\n",
              "      <td>100M Freestyle For Sailors</td>\n",
              "      <td>Gold</td>\n",
              "    </tr>\n",
              "    <tr>\n",
              "      <th>4</th>\n",
              "      <td>1896</td>\n",
              "      <td>Athens</td>\n",
              "      <td>Aquatics</td>\n",
              "      <td>Swimming</td>\n",
              "      <td>CHASAPIS, Spiridon</td>\n",
              "      <td>GRE</td>\n",
              "      <td>Men</td>\n",
              "      <td>100M Freestyle For Sailors</td>\n",
              "      <td>Silver</td>\n",
              "    </tr>\n",
              "  </tbody>\n",
              "</table>\n",
              "</div>"
            ],
            "text/plain": [
              "   Year    City     Sport Discipline             Athlete Country Gender  \\\n",
              "0  1896  Athens  Aquatics   Swimming       HAJOS, Alfred     HUN    Men   \n",
              "1  1896  Athens  Aquatics   Swimming    HERSCHMANN, Otto     AUT    Men   \n",
              "2  1896  Athens  Aquatics   Swimming   DRIVAS, Dimitrios     GRE    Men   \n",
              "3  1896  Athens  Aquatics   Swimming  MALOKINIS, Ioannis     GRE    Men   \n",
              "4  1896  Athens  Aquatics   Swimming  CHASAPIS, Spiridon     GRE    Men   \n",
              "\n",
              "                        Event   Medal  \n",
              "0              100M Freestyle    Gold  \n",
              "1              100M Freestyle  Silver  \n",
              "2  100M Freestyle For Sailors  Bronze  \n",
              "3  100M Freestyle For Sailors    Gold  \n",
              "4  100M Freestyle For Sailors  Silver  "
            ]
          },
          "metadata": {},
          "execution_count": 12
        }
      ],
      "metadata": {
        "colab": {
          "base_uri": "https://localhost:8080/",
          "height": 206
        },
        "id": "7f_NdnMbZqFn",
        "outputId": "2a6b7970-0a87-4d5f-ba81-c18dc3752a6a"
      }
    },
    {
      "cell_type": "code",
      "execution_count": 5,
      "source": [
        "olympic.info()"
      ],
      "outputs": [
        {
          "output_type": "stream",
          "name": "stdout",
          "text": [
            "<class 'pandas.core.frame.DataFrame'>\n",
            "RangeIndex: 31165 entries, 0 to 31164\n",
            "Data columns (total 9 columns):\n",
            " #   Column      Non-Null Count  Dtype \n",
            "---  ------      --------------  ----- \n",
            " 0   Year        31165 non-null  int64 \n",
            " 1   City        31165 non-null  object\n",
            " 2   Sport       31165 non-null  object\n",
            " 3   Discipline  31165 non-null  object\n",
            " 4   Athlete     31165 non-null  object\n",
            " 5   Country     31161 non-null  object\n",
            " 6   Gender      31165 non-null  object\n",
            " 7   Event       31165 non-null  object\n",
            " 8   Medal       31165 non-null  object\n",
            "dtypes: int64(1), object(8)\n",
            "memory usage: 2.1+ MB\n"
          ]
        }
      ],
      "metadata": {
        "colab": {
          "base_uri": "https://localhost:8080/"
        },
        "id": "n-JXJggHZqFo",
        "outputId": "cb9625dc-f297-4fda-9181-2fe97f6287f6"
      }
    },
    {
      "cell_type": "code",
      "execution_count": 6,
      "source": [
        "olympic.describe(include='all')"
      ],
      "outputs": [
        {
          "output_type": "execute_result",
          "data": {
            "text/html": [
              "<div>\n",
              "<style scoped>\n",
              "    .dataframe tbody tr th:only-of-type {\n",
              "        vertical-align: middle;\n",
              "    }\n",
              "\n",
              "    .dataframe tbody tr th {\n",
              "        vertical-align: top;\n",
              "    }\n",
              "\n",
              "    .dataframe thead th {\n",
              "        text-align: right;\n",
              "    }\n",
              "</style>\n",
              "<table border=\"1\" class=\"dataframe\">\n",
              "  <thead>\n",
              "    <tr style=\"text-align: right;\">\n",
              "      <th></th>\n",
              "      <th>Year</th>\n",
              "      <th>City</th>\n",
              "      <th>Sport</th>\n",
              "      <th>Discipline</th>\n",
              "      <th>Athlete</th>\n",
              "      <th>Country</th>\n",
              "      <th>Gender</th>\n",
              "      <th>Event</th>\n",
              "      <th>Medal</th>\n",
              "    </tr>\n",
              "  </thead>\n",
              "  <tbody>\n",
              "    <tr>\n",
              "      <th>count</th>\n",
              "      <td>31165.000000</td>\n",
              "      <td>31165</td>\n",
              "      <td>31165</td>\n",
              "      <td>31165</td>\n",
              "      <td>31165</td>\n",
              "      <td>31161</td>\n",
              "      <td>31165</td>\n",
              "      <td>31165</td>\n",
              "      <td>31165</td>\n",
              "    </tr>\n",
              "    <tr>\n",
              "      <th>unique</th>\n",
              "      <td>NaN</td>\n",
              "      <td>22</td>\n",
              "      <td>43</td>\n",
              "      <td>67</td>\n",
              "      <td>22762</td>\n",
              "      <td>147</td>\n",
              "      <td>2</td>\n",
              "      <td>666</td>\n",
              "      <td>3</td>\n",
              "    </tr>\n",
              "    <tr>\n",
              "      <th>top</th>\n",
              "      <td>NaN</td>\n",
              "      <td>London</td>\n",
              "      <td>Aquatics</td>\n",
              "      <td>Athletics</td>\n",
              "      <td>PHELPS, Michael</td>\n",
              "      <td>USA</td>\n",
              "      <td>Men</td>\n",
              "      <td>Football</td>\n",
              "      <td>Gold</td>\n",
              "    </tr>\n",
              "    <tr>\n",
              "      <th>freq</th>\n",
              "      <td>NaN</td>\n",
              "      <td>3567</td>\n",
              "      <td>4170</td>\n",
              "      <td>3638</td>\n",
              "      <td>22</td>\n",
              "      <td>4585</td>\n",
              "      <td>22746</td>\n",
              "      <td>1497</td>\n",
              "      <td>10486</td>\n",
              "    </tr>\n",
              "    <tr>\n",
              "      <th>mean</th>\n",
              "      <td>1970.482785</td>\n",
              "      <td>NaN</td>\n",
              "      <td>NaN</td>\n",
              "      <td>NaN</td>\n",
              "      <td>NaN</td>\n",
              "      <td>NaN</td>\n",
              "      <td>NaN</td>\n",
              "      <td>NaN</td>\n",
              "      <td>NaN</td>\n",
              "    </tr>\n",
              "    <tr>\n",
              "      <th>std</th>\n",
              "      <td>33.158416</td>\n",
              "      <td>NaN</td>\n",
              "      <td>NaN</td>\n",
              "      <td>NaN</td>\n",
              "      <td>NaN</td>\n",
              "      <td>NaN</td>\n",
              "      <td>NaN</td>\n",
              "      <td>NaN</td>\n",
              "      <td>NaN</td>\n",
              "    </tr>\n",
              "    <tr>\n",
              "      <th>min</th>\n",
              "      <td>1896.000000</td>\n",
              "      <td>NaN</td>\n",
              "      <td>NaN</td>\n",
              "      <td>NaN</td>\n",
              "      <td>NaN</td>\n",
              "      <td>NaN</td>\n",
              "      <td>NaN</td>\n",
              "      <td>NaN</td>\n",
              "      <td>NaN</td>\n",
              "    </tr>\n",
              "    <tr>\n",
              "      <th>25%</th>\n",
              "      <td>1948.000000</td>\n",
              "      <td>NaN</td>\n",
              "      <td>NaN</td>\n",
              "      <td>NaN</td>\n",
              "      <td>NaN</td>\n",
              "      <td>NaN</td>\n",
              "      <td>NaN</td>\n",
              "      <td>NaN</td>\n",
              "      <td>NaN</td>\n",
              "    </tr>\n",
              "    <tr>\n",
              "      <th>50%</th>\n",
              "      <td>1980.000000</td>\n",
              "      <td>NaN</td>\n",
              "      <td>NaN</td>\n",
              "      <td>NaN</td>\n",
              "      <td>NaN</td>\n",
              "      <td>NaN</td>\n",
              "      <td>NaN</td>\n",
              "      <td>NaN</td>\n",
              "      <td>NaN</td>\n",
              "    </tr>\n",
              "    <tr>\n",
              "      <th>75%</th>\n",
              "      <td>2000.000000</td>\n",
              "      <td>NaN</td>\n",
              "      <td>NaN</td>\n",
              "      <td>NaN</td>\n",
              "      <td>NaN</td>\n",
              "      <td>NaN</td>\n",
              "      <td>NaN</td>\n",
              "      <td>NaN</td>\n",
              "      <td>NaN</td>\n",
              "    </tr>\n",
              "    <tr>\n",
              "      <th>max</th>\n",
              "      <td>2012.000000</td>\n",
              "      <td>NaN</td>\n",
              "      <td>NaN</td>\n",
              "      <td>NaN</td>\n",
              "      <td>NaN</td>\n",
              "      <td>NaN</td>\n",
              "      <td>NaN</td>\n",
              "      <td>NaN</td>\n",
              "      <td>NaN</td>\n",
              "    </tr>\n",
              "  </tbody>\n",
              "</table>\n",
              "</div>"
            ],
            "text/plain": [
              "                Year    City     Sport Discipline          Athlete Country  \\\n",
              "count   31165.000000   31165     31165      31165            31165   31161   \n",
              "unique           NaN      22        43         67            22762     147   \n",
              "top              NaN  London  Aquatics  Athletics  PHELPS, Michael     USA   \n",
              "freq             NaN    3567      4170       3638               22    4585   \n",
              "mean     1970.482785     NaN       NaN        NaN              NaN     NaN   \n",
              "std        33.158416     NaN       NaN        NaN              NaN     NaN   \n",
              "min      1896.000000     NaN       NaN        NaN              NaN     NaN   \n",
              "25%      1948.000000     NaN       NaN        NaN              NaN     NaN   \n",
              "50%      1980.000000     NaN       NaN        NaN              NaN     NaN   \n",
              "75%      2000.000000     NaN       NaN        NaN              NaN     NaN   \n",
              "max      2012.000000     NaN       NaN        NaN              NaN     NaN   \n",
              "\n",
              "       Gender     Event  Medal  \n",
              "count   31165     31165  31165  \n",
              "unique      2       666      3  \n",
              "top       Men  Football   Gold  \n",
              "freq    22746      1497  10486  \n",
              "mean      NaN       NaN    NaN  \n",
              "std       NaN       NaN    NaN  \n",
              "min       NaN       NaN    NaN  \n",
              "25%       NaN       NaN    NaN  \n",
              "50%       NaN       NaN    NaN  \n",
              "75%       NaN       NaN    NaN  \n",
              "max       NaN       NaN    NaN  "
            ]
          },
          "metadata": {},
          "execution_count": 6
        }
      ],
      "metadata": {
        "colab": {
          "base_uri": "https://localhost:8080/",
          "height": 394
        },
        "id": "ZvuV6wfZZqFp",
        "outputId": "32ca139b-8205-42c9-e1a0-28f50015ae91"
      }
    },
    {
      "cell_type": "markdown",
      "source": [
        "## Pre-Profiling Summary\n",
        "- __Athlete, Country, Discipline & Event__ has a high cardinality\n",
        "- Dataset has 2 duplicate rows \n",
        "- __Country__ has 4 missing values"
      ],
      "metadata": {
        "id": "I8u8R_vFZqFq"
      }
    },
    {
      "cell_type": "code",
      "execution_count": 7,
      "source": [
        "# Dropping duplicates\n",
        "olympic.drop_duplicates(inplace=True)"
      ],
      "outputs": [],
      "metadata": {
        "id": "lD_jaE7DZqFr"
      }
    },
    {
      "cell_type": "code",
      "execution_count": 8,
      "source": [
        "def missing_data(data):\n",
        "    total = data.isnull().sum().sort_values(ascending = False)\n",
        "    percent = (data.isnull().sum()/data.isnull().count()*100).sort_values(ascending = False)\n",
        "    return pd.concat([total, percent], axis=1, keys=['Total', 'Percent'])\n",
        "missing_data(olympic)"
      ],
      "outputs": [
        {
          "output_type": "execute_result",
          "data": {
            "text/html": [
              "<div>\n",
              "<style scoped>\n",
              "    .dataframe tbody tr th:only-of-type {\n",
              "        vertical-align: middle;\n",
              "    }\n",
              "\n",
              "    .dataframe tbody tr th {\n",
              "        vertical-align: top;\n",
              "    }\n",
              "\n",
              "    .dataframe thead th {\n",
              "        text-align: right;\n",
              "    }\n",
              "</style>\n",
              "<table border=\"1\" class=\"dataframe\">\n",
              "  <thead>\n",
              "    <tr style=\"text-align: right;\">\n",
              "      <th></th>\n",
              "      <th>Total</th>\n",
              "      <th>Percent</th>\n",
              "    </tr>\n",
              "  </thead>\n",
              "  <tbody>\n",
              "    <tr>\n",
              "      <th>Country</th>\n",
              "      <td>4</td>\n",
              "      <td>0.012836</td>\n",
              "    </tr>\n",
              "    <tr>\n",
              "      <th>Year</th>\n",
              "      <td>0</td>\n",
              "      <td>0.000000</td>\n",
              "    </tr>\n",
              "    <tr>\n",
              "      <th>City</th>\n",
              "      <td>0</td>\n",
              "      <td>0.000000</td>\n",
              "    </tr>\n",
              "    <tr>\n",
              "      <th>Sport</th>\n",
              "      <td>0</td>\n",
              "      <td>0.000000</td>\n",
              "    </tr>\n",
              "    <tr>\n",
              "      <th>Discipline</th>\n",
              "      <td>0</td>\n",
              "      <td>0.000000</td>\n",
              "    </tr>\n",
              "    <tr>\n",
              "      <th>Athlete</th>\n",
              "      <td>0</td>\n",
              "      <td>0.000000</td>\n",
              "    </tr>\n",
              "    <tr>\n",
              "      <th>Gender</th>\n",
              "      <td>0</td>\n",
              "      <td>0.000000</td>\n",
              "    </tr>\n",
              "    <tr>\n",
              "      <th>Event</th>\n",
              "      <td>0</td>\n",
              "      <td>0.000000</td>\n",
              "    </tr>\n",
              "    <tr>\n",
              "      <th>Medal</th>\n",
              "      <td>0</td>\n",
              "      <td>0.000000</td>\n",
              "    </tr>\n",
              "  </tbody>\n",
              "</table>\n",
              "</div>"
            ],
            "text/plain": [
              "            Total   Percent\n",
              "Country         4  0.012836\n",
              "Year            0  0.000000\n",
              "City            0  0.000000\n",
              "Sport           0  0.000000\n",
              "Discipline      0  0.000000\n",
              "Athlete         0  0.000000\n",
              "Gender          0  0.000000\n",
              "Event           0  0.000000\n",
              "Medal           0  0.000000"
            ]
          },
          "metadata": {},
          "execution_count": 8
        }
      ],
      "metadata": {
        "id": "HTRikhDOZqFs",
        "outputId": "973705ce-96d5-4f9c-d8f6-57337c68fc4a"
      }
    },
    {
      "cell_type": "code",
      "execution_count": null,
      "source": [],
      "outputs": [],
      "metadata": {}
    },
    {
      "cell_type": "markdown",
      "source": [
        "# Questions"
      ],
      "metadata": {
        "id": "vCsJ5fQsZqF4"
      }
    },
    {
      "cell_type": "markdown",
      "source": [
        "## 1. How many uniques events (sports) do we have thus far, in Summer Olympics?"
      ],
      "metadata": {
        "id": "epBMUAQrZqF4"
      }
    },
    {
      "cell_type": "code",
      "execution_count": 3,
      "source": [
        "# Read in the CSV file\n",
        "df = pd.read_csv(\"summer_olympics.csv\")\n",
        "\n",
        "# Get unique events (sports) in Summer Olympics\n",
        "unique_events = df['Sport'].nunique()\n",
        "\n",
        "print(f\"There are {unique_events} unique events (sports) in Summer Olympics.\")\n"
      ],
      "outputs": [
        {
          "output_type": "stream",
          "name": "stdout",
          "text": [
            "There are 43 unique events (sports) in Summer Olympics.\n"
          ]
        }
      ],
      "metadata": {}
    },
    {
      "cell_type": "markdown",
      "source": [
        "## 2. Not all of the above unique sports were part of Summer Olympics starting 1896. \n",
        "## Find out which year the sport (kind of sport) was inducted into Olympics"
      ],
      "metadata": {
        "id": "WXQxzb2RZqF5"
      }
    },
    {
      "cell_type": "code",
      "execution_count": 4,
      "source": [
        "when_were_added = df.groupby('Sport')['Year'].min()\n",
        "print(when_were_added)"
      ],
      "outputs": [
        {
          "output_type": "stream",
          "name": "stdout",
          "text": [
            "Sport\n",
            "Aquatics             1896\n",
            "Archery              1900\n",
            "Athletics            1896\n",
            "Badminton            1992\n",
            "Baseball             1992\n",
            "Basketball           1936\n",
            "Basque Pelota        1900\n",
            "Boxing               1904\n",
            "Canoe                2012\n",
            "Canoe / Kayak        1936\n",
            "Cricket              1900\n",
            "Croquet              1900\n",
            "Cycling              1896\n",
            "Equestrian           1900\n",
            "Fencing              1896\n",
            "Football             1900\n",
            "Golf                 1900\n",
            "Gymnastics           1896\n",
            "Handball             1936\n",
            "Hockey               1908\n",
            "Ice Hockey           1920\n",
            "Jeu de paume         1908\n",
            "Judo                 1964\n",
            "Lacrosse             1904\n",
            "Modern Pentathlon    1912\n",
            "Polo                 1900\n",
            "Rackets              1908\n",
            "Roque                1904\n",
            "Rowing               1900\n",
            "Rugby                1900\n",
            "Sailing              1900\n",
            "Shooting             1896\n",
            "Skating              1908\n",
            "Softball             1996\n",
            "Table Tennis         1988\n",
            "Taekwondo            2000\n",
            "Tennis               1896\n",
            "Triathlon            2000\n",
            "Tug of War           1900\n",
            "Volleyball           1964\n",
            "Water Motorsports    1908\n",
            "Weightlifting        1896\n",
            "Wrestling            1896\n",
            "Name: Year, dtype: int64\n"
          ]
        }
      ],
      "metadata": {}
    },
    {
      "cell_type": "markdown",
      "source": [
        "## 3. What is the number of Sports held per year in Summer Olypics, since 1896?  \n",
        "## Draw the barplot diagram"
      ],
      "metadata": {
        "id": "2hXM0XWFZqF7"
      }
    },
    {
      "cell_type": "code",
      "execution_count": 36,
      "source": [
        "import seaborn as sns       \n",
        "import matplotlib.pyplot as plt        \n",
        "sports_per_year = df.groupby(['Year', 'Sport'])['Sport'].nunique()\n",
        "sports_per_year_df = sports_per_year.to_frame(name='count').reset_index()\n",
        "sns.set(rc = {'figure.figsize':(15,8)})\n",
        "sns.barplot(x='Year', y='count', data=sports_per_year_df)\n",
        "plt.title('Number')\n",
        "plt.xlabel('Year')\n",
        "plt.ylabel('Number of Sports')\n",
        "\n",
        "plt.show()"
      ],
      "outputs": [
        {
          "output_type": "display_data",
          "data": {
            "image/png": "[encoded data removed]",
            "text/plain": [
              "<Figure size 1500x800 with 1 Axes>"
            ]
          },
          "metadata": {}
        }
      ],
      "metadata": {}
    },
    {
      "cell_type": "markdown",
      "source": [
        "## 4. How is the gender participation in Summer Olympics, since 1896? (yearly)\n",
        "## Draw the barplot diagram and pie chart"
      ],
      "metadata": {
        "id": "SWDARnSFZqF8"
      }
    },
    {
      "cell_type": "code",
      "execution_count": 50,
      "source": [
        "gender_participation = df.groupby(['Year', 'Gender'])['Athlete'].nunique()\n",
        "gender_participation_df = gender_participation.to_frame(name='count').reset_index()\n",
        "sns.set(rc = {'figure.figsize':(15,8)})\n",
        "sns.barplot(x='Year', y='count', hue='Gender', data=gender_participation_df,width=0.5)"
      ],
      "outputs": [
        {
          "output_type": "execute_result",
          "data": {
            "text/plain": [
              "<AxesSubplot: xlabel='Year', ylabel='count'>"
            ]
          },
          "metadata": {},
          "execution_count": 50
        },
        {
          "output_type": "display_data",
          "data": {
            "image/png": "[encoded data removed]",
            "text/plain": [
              "<Figure size 1500x800 with 1 Axes>"
            ]
          },
          "metadata": {}
        }
      ],
      "metadata": {}
    },
    {
      "cell_type": "code",
      "execution_count": 49,
      "source": [
        "plt.pie(gender_participation_df.groupby('Gender').sum()['count'], labels=gender_participation_df['Gender'].unique(), autopct='%1.1f%%')\n",
        "plt.show()"
      ],
      "outputs": [
        {
          "output_type": "display_data",
          "data": {
            "image/png": "[encoded data removed]",
            "text/plain": [
              "<Figure size 1500x800 with 1 Axes>"
            ]
          },
          "metadata": {}
        }
      ],
      "metadata": {}
    },
    {
      "cell_type": "markdown",
      "source": [
        "## 6. How many cities hosted the Summer Olympics games, since 1896?\n",
        "### 6.1 How many cities in which Olympics was conducted more than once?"
      ],
      "metadata": {
        "id": "w8xbzUZhZqF-"
      }
    },
    {
      "cell_type": "code",
      "execution_count": 92,
      "source": [
        "hosted_cities = df['City'].nunique()\n",
        "hosted_cities_1 = df.groupby('City')['Year'].nunique().reset_index()\n",
        "hosted_cities_df = hosted_cities_1[hosted_cities_1['Year'] > 1]['City'].tolist()\n",
        "print(len(hosted_cities_df))"
      ],
      "outputs": [
        {
          "output_type": "stream",
          "name": "stdout",
          "text": [
            "4\n"
          ]
        }
      ],
      "metadata": {}
    },
    {
      "cell_type": "code",
      "execution_count": null,
      "source": [
        "## 7. Which country won the most Gold medals, in each of the Olympics?"
      ],
      "outputs": [],
      "metadata": {
        "id": "4d8r0ZNBZqGA"
      }
    },
    {
      "cell_type": "code",
      "execution_count": null,
      "source": [],
      "outputs": [],
      "metadata": {}
    },
    {
      "cell_type": "markdown",
      "source": [
        "## 8. How many medals were won by women in Summer Olympics?"
      ],
      "metadata": {
        "id": "_yUOyOzZZqGA"
      }
    },
    {
      "cell_type": "markdown",
      "source": [
        "# 9. Top 10 Women Athletes - Gold Medals"
      ],
      "metadata": {
        "id": "2JqtcjWKZqGB"
      }
    },
    {
      "cell_type": "markdown",
      "source": [
        "# 10. Top 10 Men Athletes - Gold Medals"
      ],
      "metadata": {
        "id": "fPOqgXOVZqGD"
      }
    },
    {
      "cell_type": "markdown",
      "source": [
        "## 11. Top 5 countries to win most Gold medals across all seasons collectively\n",
        "\n",
        "## Draw the barplot"
      ],
      "metadata": {
        "id": "Vpl2n2LnZqGE"
      }
    },
    {
      "cell_type": "markdown",
      "source": [
        "## 13. Evolution of the Olympics over time"
      ],
      "metadata": {
        "id": "5rj4E53OZqGI"
      }
    },
    {
      "cell_type": "markdown",
      "source": [
        "13.1. How the number of athletes/countries varied along time ? \\\n",
        "13.2. How the proportion of Men/Women varied with time ?"
      ],
      "metadata": {
        "id": "SO_yneUWZqGI"
      }
    },
    {
      "cell_type": "markdown",
      "source": [
        "## 14. How many athlete participated in each sport in Summer Olympics?"
      ],
      "metadata": {
        "id": "ybB_dFlQZqGK"
      }
    },
    {
      "cell_type": "markdown",
      "source": [
        "## 15. How many athlete participate in each Summer Olympic?"
      ],
      "metadata": {
        "id": "P7FSuBqAZqGK"
      }
    },
    {
      "cell_type": "markdown",
      "source": [
        "## 18. Number of events in each sport over years [Heatmap]"
      ],
      "metadata": {
        "id": "X7hWwytMZqGM"
      }
    },
    {
      "cell_type": "code",
      "execution_count": null,
      "source": [],
      "outputs": [
        {
          "output_type": "error",
          "ename": "",
          "evalue": "",
          "traceback": [
            "\u001b[1;31mНе удается запустить Jupyter. Ошибка при попытке найти Jupyter: Для выполнения ячеек требуется пакет jupyter и notebook.\n",
            "\u001b[1;31mRun the following command to install 'jupyter и notebook' into the Python environment. \n",
            "\u001b[1;31mCommand: 'python -m pip install jupyter notebook -U\n",
            "\u001b[1;31mor\n",
            "\u001b[1;31mconda install jupyter notebook -U'\n",
            "\u001b[1;31mНажмите <a href=\"https://aka.ms/installJupyterForVSCode\">здесь</a> для получения дополнительных сведений."
          ]
        }
      ],
      "metadata": {
        "id": "7zCjKNG3ZqGM",
        "outputId": "760a4d15-d1de-4fcc-b884-02676707be6b",
        "scrolled": true
      }
    },
    {
      "cell_type": "markdown",
      "source": [
        "__Athletics__ and __Aquatics__ are the sports which has the maximum number of events"
      ],
      "metadata": {
        "id": "8vMUUG-zZqGM"
      }
    }
  ],
  "metadata": {
    "colab": {
      "provenance": []
    },
    "kernelspec": {
      "name": "python3",
      "display_name": "Python 3.10.2 64-bit"
    },
    "language_info": {
      "codemirror_mode": {
        "name": "ipython",
        "version": 3
      },
      "file_extension": ".py",
      "mimetype": "text/x-python",
      "name": "python",
      "nbconvert_exporter": "python",
      "pygments_lexer": "ipython3",
      "version": "3.10.2"
    },
    "interpreter": {
      "hash": "aee8b7b246df8f9039afb4144a1f6fd8d2ca17a180786b69acc140d282b71a49"
    }
  },
  "nbformat": 4,
  "nbformat_minor": 2
}